{
 "cells": [
  {
   "cell_type": "markdown",
   "metadata": {},
   "source": [
    "### define tha working model path"
   ]
  },
  {
   "cell_type": "code",
   "execution_count": 1,
   "metadata": {},
   "outputs": [],
   "source": [
    "model_loading_saving_path = \"snake_nn_2024_12_24\""
   ]
  },
  {
   "cell_type": "markdown",
   "metadata": {},
   "source": [
    "### import all the necessary libraries"
   ]
  },
  {
   "cell_type": "code",
   "execution_count": 2,
   "metadata": {},
   "outputs": [],
   "source": [
    "import time\n",
    "import gymnasium as gym\n",
    "from stable_baselines3 import DQN\n",
    "from stable_baselines3.common.vec_env import DummyVecEnv\n",
    "from stable_baselines3.common.env_checker import check_env\n",
    "from stable_baselines3.common.torch_layers import BaseFeaturesExtractor\n",
    "from IPython.display import clear_output\n",
    "import torch\n",
    "from snake_nn import SnakeNN\n",
    "\n",
    "from snake import Snake\n",
    "\n",
    "snake = Snake()"
   ]
  },
  {
   "cell_type": "markdown",
   "metadata": {},
   "source": [
    "### initialize a new DQN agent with the required parameters"
   ]
  },
  {
   "cell_type": "code",
   "execution_count": 9,
   "metadata": {},
   "outputs": [
    {
     "name": "stdout",
     "output_type": "stream",
     "text": [
      "Using cpu device\n",
      "Wrapping the env with a `Monitor` wrapper\n",
      "Wrapping the env in a DummyVecEnv.\n"
     ]
    }
   ],
   "source": [
    "policy_kwargs = dict(\n",
    "    features_extractor_class=SnakeNN,\n",
    "    features_extractor_kwargs=dict(features_dim=64)\n",
    ")\n",
    "\n",
    "model = DQN(\n",
    "    \"MlpPolicy\",\n",
    "    snake.env,\n",
    "    verbose=1,\n",
    "    learning_rate=1e-4,\n",
    "    buffer_size=10000,\n",
    "    policy_kwargs=policy_kwargs\n",
    ")"
   ]
  },
  {
   "cell_type": "markdown",
   "metadata": {},
   "source": [
    "### OR load the pre-trained model"
   ]
  },
  {
   "cell_type": "code",
   "execution_count": 3,
   "metadata": {},
   "outputs": [
    {
     "name": "stdout",
     "output_type": "stream",
     "text": [
      "Wrapping the env with a `Monitor` wrapper\n",
      "Wrapping the env in a DummyVecEnv.\n"
     ]
    }
   ],
   "source": [
    "model = DQN.load(model_loading_saving_path, env = snake.env)"
   ]
  },
  {
   "cell_type": "markdown",
   "metadata": {},
   "source": [
    "### train the agent for a number of episodes and save the model"
   ]
  },
  {
   "cell_type": "code",
   "execution_count": 18,
   "metadata": {},
   "outputs": [
    {
     "name": "stdout",
     "output_type": "stream",
     "text": [
      "[250/250] |████████████████████| -> 0m 0s\n"
     ]
    }
   ],
   "source": [
    "epochs = 250\n",
    "save_for_every_epoch = 5\n",
    "total_time = 0\n",
    "\n",
    "for i in range(epochs):\n",
    "    start_time = time.time()\n",
    "    model = snake.training(model=model, epochs=10000)\n",
    "    snake.run(model = model)\n",
    "    \n",
    "    if i % save_for_every_epoch == 0:\n",
    "        model.save(model_loading_saving_path)\n",
    "    \n",
    "    end_time = time.time()\n",
    "    iteration_time = end_time - start_time\n",
    "    total_time += iteration_time\n",
    "    \n",
    "    completed_epochs = i + 1\n",
    "    avg_time_per_epoch = total_time / completed_epochs\n",
    "    remaining_epochs = epochs - completed_epochs\n",
    "    estimated_time_left = avg_time_per_epoch * remaining_epochs\n",
    "    \n",
    "    estimated_minutes = int(estimated_time_left // 60)\n",
    "    estimated_seconds = int(estimated_time_left % 60)\n",
    "    \n",
    "    progress_bar = \"█\" * int((i+1)/epochs*20)\n",
    "    clear_output(wait=True)\n",
    "    print(f\"[{i+1}/{epochs}] |{progress_bar}{'-'*(20-len(progress_bar))}| -> {estimated_minutes}m {estimated_seconds}s\")\n",
    "    \n",
    "model.save(model_loading_saving_path)"
   ]
  },
  {
   "cell_type": "markdown",
   "metadata": {},
   "source": [
    "### run the agent"
   ]
  },
  {
   "cell_type": "code",
   "execution_count": 4,
   "metadata": {},
   "outputs": [
    {
     "name": "stdout",
     "output_type": "stream",
     "text": [
      ". . . . . . . . . . \n",
      ". . . . . . . . . . \n",
      ". . . . . . . . . . \n",
      ". . . . . S S . . . \n",
      ". . . . . S . . . . \n",
      ". . . . . S . . . . \n",
      ". . . . S S . . . C \n",
      ". . . . . . . . . . \n",
      ". . . . . . . . . . \n",
      ". . . . . . . . . . \n",
      "\n",
      "SCORE: 3.5481184236729595\n"
     ]
    }
   ],
   "source": [
    "snake.run(model = model)"
   ]
  }
 ],
 "metadata": {
  "kernelspec": {
   "display_name": "venv",
   "language": "python",
   "name": "python3"
  },
  "language_info": {
   "codemirror_mode": {
    "name": "ipython",
    "version": 3
   },
   "file_extension": ".py",
   "mimetype": "text/x-python",
   "name": "python",
   "nbconvert_exporter": "python",
   "pygments_lexer": "ipython3",
   "version": "3.9.21"
  }
 },
 "nbformat": 4,
 "nbformat_minor": 2
}
